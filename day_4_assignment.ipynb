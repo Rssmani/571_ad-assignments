{
  "nbformat": 4,
  "nbformat_minor": 0,
  "metadata": {
    "colab": {
      "provenance": [],
      "authorship_tag": "ABX9TyP0crNneAv2R3aZYrVLFvwJ",
      "include_colab_link": true
    },
    "kernelspec": {
      "name": "python3",
      "display_name": "Python 3"
    },
    "language_info": {
      "name": "python"
    }
  },
  "cells": [
    {
      "cell_type": "markdown",
      "metadata": {
        "id": "view-in-github",
        "colab_type": "text"
      },
      "source": [
        "<a href=\"https://colab.research.google.com/github/Rssmani/571_ad-assignments/blob/main/day_4_assignment.ipynb\" target=\"_parent\"><img src=\"https://colab.research.google.com/assets/colab-badge.svg\" alt=\"Open In Colab\"/></a>"
      ]
    },
    {
      "cell_type": "code",
      "execution_count": 1,
      "metadata": {
        "colab": {
          "base_uri": "https://localhost:8080/"
        },
        "id": "wzogSl3lf4IH",
        "outputId": "fc31f3b2-26fd-4b2a-9c1f-68ee1236549a"
      },
      "outputs": [
        {
          "output_type": "stream",
          "name": "stdout",
          "text": [
            "Enter a positive integer: 5\n",
            "The sum of all even numbers between 1 and 5 is: 6\n"
          ]
        }
      ],
      "source": [
        "def sum_of_even_numbers(n):\n",
        "    total = 0\n",
        "    for number in range(1, n + 1):\n",
        "        if number % 2 == 0:\n",
        "            total += number\n",
        "    return total\n",
        "\n",
        "n = int(input(\"Enter a positive integer: \"))\n",
        "\n",
        "sum_even = sum_of_even_numbers(n)\n",
        "print(f\"The sum of all even numbers between 1 and {n} is: {sum_even}\")"
      ]
    }
  ]
}