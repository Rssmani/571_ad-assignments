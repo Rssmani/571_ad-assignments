{
  "nbformat": 4,
  "nbformat_minor": 0,
  "metadata": {
    "colab": {
      "provenance": [],
      "authorship_tag": "ABX9TyNrgk8FvC9MNAbgvhE4vdlz",
      "include_colab_link": true
    },
    "kernelspec": {
      "name": "python3",
      "display_name": "Python 3"
    },
    "language_info": {
      "name": "python"
    }
  },
  "cells": [
    {
      "cell_type": "markdown",
      "metadata": {
        "id": "view-in-github",
        "colab_type": "text"
      },
      "source": [
        "<a href=\"https://colab.research.google.com/github/Rssmani/571_ad-assignments/blob/main/day_3_assignment.ipynb\" target=\"_parent\"><img src=\"https://colab.research.google.com/assets/colab-badge.svg\" alt=\"Open In Colab\"/></a>"
      ]
    },
    {
      "cell_type": "code",
      "execution_count": 1,
      "metadata": {
        "colab": {
          "base_uri": "https://localhost:8080/"
        },
        "id": "DzmsUHVWj7q6",
        "outputId": "3bca2f67-316a-48fd-9f5f-87764810022e"
      },
      "outputs": [
        {
          "output_type": "stream",
          "name": "stdout",
          "text": [
            "Enter marks for subject 1: 93\n",
            "Enter marks for subject 2: 96\n",
            "Enter marks for subject 3: 98\n",
            "Grade: A\n"
          ]
        }
      ],
      "source": [
        "def calculate_grade(marks):\n",
        "    average = sum(marks) / len(marks)\n",
        "    if average >= 90:\n",
        "        return \"Grade: A\"\n",
        "    elif 80 <= average < 90:\n",
        "        return \"Grade: B\"\n",
        "    elif 70 <= average < 80:\n",
        "        return \"Grade: C\"\n",
        "    else:\n",
        "        return \"Grade: Fail\"\n",
        "\n",
        "marks = []\n",
        "for i in range(1, 4):\n",
        "    mark = float(input(f\"Enter marks for subject {i}: \"))\n",
        "    marks.append(mark)\n",
        "\n",
        "grade = calculate_grade(marks)\n",
        "print(grade)"
      ]
    }
  ]
}