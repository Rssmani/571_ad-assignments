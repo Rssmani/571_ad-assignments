{
  "nbformat": 4,
  "nbformat_minor": 0,
  "metadata": {
    "colab": {
      "provenance": [],
      "authorship_tag": "ABX9TyNUOV0Gh2rbHPinagRix6xO",
      "include_colab_link": true
    },
    "kernelspec": {
      "name": "python3",
      "display_name": "Python 3"
    },
    "language_info": {
      "name": "python"
    }
  },
  "cells": [
    {
      "cell_type": "markdown",
      "metadata": {
        "id": "view-in-github",
        "colab_type": "text"
      },
      "source": [
        "<a href=\"https://colab.research.google.com/github/Rssmani/571_ad-assignments/blob/main/day_1_assignment.ipynb\" target=\"_parent\"><img src=\"https://colab.research.google.com/assets/colab-badge.svg\" alt=\"Open In Colab\"/></a>"
      ]
    },
    {
      "cell_type": "code",
      "execution_count": 2,
      "metadata": {
        "colab": {
          "base_uri": "https://localhost:8080/"
        },
        "id": "2tsBDM-leSKV",
        "outputId": "1b2c0b6c-0860-4820-e047-39502b2a027d"
      },
      "outputs": [
        {
          "output_type": "stream",
          "name": "stdout",
          "text": [
            "Integer variable: 10 Type: <class 'int'>\n",
            "Float variable: 10.5 Type: <class 'float'>\n",
            "String variable: Hello, World! Type: <class 'str'>\n",
            "Boolean variable: True Type: <class 'bool'>\n"
          ]
        }
      ],
      "source": [
        "integer_var = 10\n",
        "float_var = 10.5\n",
        "string_var = \"Hello, World!\"\n",
        "boolean_var = True\n",
        "\n",
        "print(\"Integer variable:\", integer_var, \"Type:\", type(integer_var))\n",
        "print(\"Float variable:\", float_var, \"Type:\", type(float_var))\n",
        "print(\"String variable:\", string_var, \"Type:\", type(string_var))\n",
        "print(\"Boolean variable:\", boolean_var, \"Type:\", type(boolean_var))"
      ]
    }
  ]
}